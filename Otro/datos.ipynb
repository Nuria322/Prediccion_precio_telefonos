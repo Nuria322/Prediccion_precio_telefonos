{
 "cells": [
  {
   "cell_type": "markdown",
   "id": "88e53180",
   "metadata": {},
   "source": []
  },
  {
   "cell_type": "markdown",
   "id": "0be2fba8",
   "metadata": {},
   "source": [
    "## Primera carga de datos"
   ]
  }
 ],
 "metadata": {
  "language_info": {
   "name": "python"
  }
 },
 "nbformat": 4,
 "nbformat_minor": 5
}
