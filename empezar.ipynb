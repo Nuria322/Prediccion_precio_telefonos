{
 "cells": [
  {
   "cell_type": "markdown",
   "id": "8956b15c",
   "metadata": {},
   "source": []
  },
  {
   "cell_type": "code",
   "execution_count": null,
   "id": "5bc29562",
   "metadata": {},
   "outputs": [
    {
     "data": {
      "text/html": [
       "<div>\n",
       "<style scoped>\n",
       "    .dataframe tbody tr th:only-of-type {\n",
       "        vertical-align: middle;\n",
       "    }\n",
       "\n",
       "    .dataframe tbody tr th {\n",
       "        vertical-align: top;\n",
       "    }\n",
       "\n",
       "    .dataframe thead th {\n",
       "        text-align: right;\n",
       "    }\n",
       "</style>\n",
       "<table border=\"1\" class=\"dataframe\">\n",
       "  <thead>\n",
       "    <tr style=\"text-align: right;\">\n",
       "      <th></th>\n",
       "      <th>5 años</th>\n",
       "      <th>10 años</th>\n",
       "      <th>15 años</th>\n",
       "    </tr>\n",
       "  </thead>\n",
       "  <tbody>\n",
       "    <tr>\n",
       "      <th>Opción 1</th>\n",
       "      <td>9423.66</td>\n",
       "      <td>19733.03</td>\n",
       "      <td>31011.34</td>\n",
       "    </tr>\n",
       "    <tr>\n",
       "      <th>Opción 2</th>\n",
       "      <td>9209.64</td>\n",
       "      <td>19431.99</td>\n",
       "      <td>30778.40</td>\n",
       "    </tr>\n",
       "    <tr>\n",
       "      <th>Opción 3</th>\n",
       "      <td>8958.33</td>\n",
       "      <td>18974.05</td>\n",
       "      <td>30171.97</td>\n",
       "    </tr>\n",
       "  </tbody>\n",
       "</table>\n",
       "</div>"
      ],
      "text/plain": [
       "           5 años   10 años   15 años\n",
       "Opción 1  9423.66  19733.03  31011.34\n",
       "Opción 2  9209.64  19431.99  30778.40\n",
       "Opción 3  8958.33  18974.05  30171.97"
      ]
     },
     "execution_count": 1,
     "metadata": {},
     "output_type": "execute_result"
    }
   ],
   "source": [
    "import numpy as np\n",
    "import pandas as pd\n",
    "\n",
    "# Parámetros de la inversión\n",
    "aporte_mensual = 150  # euros\n",
    "tasa_rendimiento_anual = 0.03  # 3% anual\n",
    "tasa_rendimiento_mensual = (1 + tasa_rendimiento_anual)**(1/12) - 1\n",
    "\n",
    "# Comisiones mensuales (convertidas a proporciones)\n",
    "comisiones = {\n",
    "    'Opción 1': {'comision_mensual': 0.0008 * 1.21, 'ajuste_precio': 0.00},\n",
    "    'Opción 2': {'comision_mensual': 0.0006 * 1.21, 'ajuste_precio': -0.03},\n",
    "    'Opción 3': {'comision_mensual': 0.0005 * 1.21, 'ajuste_precio': -0.06}\n",
    "}\n",
    "\n",
    "# Horizontes de inversión\n",
    "años = [5, 10, 15]\n",
    "resultados = {}r\n",
    "\n",
    "# Simulación del crecimiento de la inversión para cada opción\n",
    "for nombre, datos in comisiones.items():\n",
    "    resultados[nombre] = {}\n",
    "    for año in años:\n",
    "        meses = año * 12\n",
    "        saldo = 0\n",
    "        for mes in range(meses):\n",
    "            aporte_ajustado = aporte_mensual * (1 + datos['ajuste_precio'])\n",
    "            saldo = (saldo + aporte_ajustado) * (1 + tasa_rendimiento_mensual - datos['comision_mensual'])\n",
    "        resultados[nombre][f'{año} años'] = saldo\n",
    "\n",
    "# Convertimos los resultados en un DataFrame para visualización\n",
    "df_resultados = pd.DataFrame(resultados).T\n",
    "df_resultados = df_resultados.round(2)\n",
    "df_resultados"
   ]
  },
  {
   "cell_type": "code",
   "execution_count": null,
   "id": "c1504bba",
   "metadata": {},
   "outputs": [],
   "source": []
  }
 ],
 "metadata": {
  "kernelspec": {
   "display_name": "env",
   "language": "python",
   "name": "python3"
  },
  "language_info": {
   "codemirror_mode": {
    "name": "ipython",
    "version": 3
   },
   "file_extension": ".py",
   "mimetype": "text/x-python",
   "name": "python",
   "nbconvert_exporter": "python",
   "pygments_lexer": "ipython3",
   "version": "3.10.11"
  }
 },
 "nbformat": 4,
 "nbformat_minor": 5
}
